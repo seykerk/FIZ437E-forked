{
 "cells": [
  {
   "cell_type": "code",
   "execution_count": 3,
   "metadata": {},
   "outputs": [
    {
     "ename": "ModuleNotFoundError",
     "evalue": "No module named 'numpy'",
     "output_type": "error",
     "traceback": [
      "\u001b[0;31m---------------------------------------------------------------------------\u001b[0m",
      "\u001b[0;31mModuleNotFoundError\u001b[0m                       Traceback (most recent call last)",
      "Cell \u001b[0;32mIn[3], line 1\u001b[0m\n\u001b[0;32m----> 1\u001b[0m \u001b[38;5;28;01mimport\u001b[39;00m \u001b[38;5;21;01mnumpy\u001b[39;00m \u001b[38;5;28;01mas\u001b[39;00m \u001b[38;5;21;01mnp\u001b[39;00m\n\u001b[1;32m      2\u001b[0m \u001b[38;5;28;01mimport\u001b[39;00m \u001b[38;5;21;01mpandas\u001b[39;00m \u001b[38;5;28;01mas\u001b[39;00m \u001b[38;5;21;01mpd\u001b[39;00m\n\u001b[1;32m      3\u001b[0m \u001b[38;5;28;01mfrom\u001b[39;00m \u001b[38;5;21;01msklearn\u001b[39;00m\u001b[38;5;21;01m.\u001b[39;00m\u001b[38;5;21;01mmodel_selection\u001b[39;00m \u001b[38;5;28;01mimport\u001b[39;00m train_test_split\n",
      "\u001b[0;31mModuleNotFoundError\u001b[0m: No module named 'numpy'"
     ]
    }
   ],
   "source": [
    "import numpy as np\n",
    "import pandas as pd\n",
    "from sklearn.model_selection import train_test_split\n",
    "from sklearn.metrics import accuracy_score\n",
    "from sklearn.datasets import load_breast_cancer\n",
    "from nv_hw3 import GaussianNB\n",
    "import matplotlib.pyplot as plt\n",
    "import seaborn as sns\n",
    "\n",
    "\n",
    "# Load breast cancer data using load_breast_cancer\n",
    "cancer = load_breast_cancer()\n",
    "\n",
    "\n",
    "# Get the data and target\n",
    "X, y = cancer.data, cancer.target\n",
    "\n",
    "\n",
    "# Get feature names\n",
    "feature_names = cancer.feature_names\n",
    "print ( feature_names )\n",
    "\n",
    "\n",
    "# Create a pandas dataframe\n",
    "df_cancer = pd.DataFrame(data=cancer.data, columns=cancer.feature_names)\n",
    "\n",
    "\n",
    "# Compute pairwise correlation of features\n",
    "corr = df_cancer.corr(method=\"pearson\")\n",
    "\n",
    "\n",
    "# Plot correlations using seaborn or any other plotting tool .\n",
    "plt.figure(figsize=(16, 12))\n",
    "sns.heatmap(corr, cmap='coolwarm', fmt=\".2f\", linewidths=0.1)\n",
    "plt.title(\"Pairwise Correlation of Features\")\n",
    "plt.show()\n",
    "\n",
    "\n",
    "# Can you use all of the features ? Remember the fundamental assumption of\n",
    "# We explain it out reports(app_naive_bayes).\n",
    "\n",
    "\n",
    "# There are many features . Select some of them ( maybe four or five ) and get\n",
    "# predictions for your test samples using GaussianNB class that you have\n",
    "# implemented in the previous homework .\n",
    "selected_features = ['mean symmetry', 'mean texture', 'mean perimeter', 'mean concave points', 'mean concavity']\n",
    "\n",
    "\n",
    "# Your selected features\n",
    "X_selected = df_cancer[selected_features].to_numpy()\n",
    "\n",
    "\n",
    "# Labels of your selected features\n",
    "df_cancer['target'] = y\n",
    "y_selected = df_cancer['target'].values\n",
    "\n",
    "\n",
    "# Split the data using train_test_split\n",
    "X_train, X_test, y_train, y_test = train_test_split(X_selected, y, test_size=0.1, random_state=42)\n",
    "\n",
    "\n",
    "clf = GaussianNB()\n",
    "clf.fit(X_train, y_train)\n",
    "predictions = clf.predict(X_test)\n",
    "accuracy = accuracy_score(y_test, predictions)\n",
    "print(\"Accuracy score:\", accuracy)\n"
   ]
  }
 ],
 "metadata": {
  "kernelspec": {
   "display_name": "Python 3",
   "language": "python",
   "name": "python3"
  },
  "language_info": {
   "codemirror_mode": {
    "name": "ipython",
    "version": 3
   },
   "file_extension": ".py",
   "mimetype": "text/x-python",
   "name": "python",
   "nbconvert_exporter": "python",
   "pygments_lexer": "ipython3",
   "version": "3.9.6"
  }
 },
 "nbformat": 4,
 "nbformat_minor": 2
}
